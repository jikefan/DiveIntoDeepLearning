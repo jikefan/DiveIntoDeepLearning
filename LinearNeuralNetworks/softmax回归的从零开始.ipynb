{
 "cells": [
  {
   "cell_type": "markdown",
   "metadata": {},
   "source": [
    "# softmax回归的从零开始实现"
   ]
  },
  {
   "cell_type": "code",
   "execution_count": 1,
   "metadata": {},
   "outputs": [],
   "source": [
    "import torch\n",
    "from IPython import display\n",
    "from d2l import torch as d2l\n",
    "\n",
    "batch_size = 256\n",
    "train_iter, test_iter = d2l.load_data_fashion_mnist(batch_size)"
   ]
  },
  {
   "cell_type": "markdown",
   "metadata": {},
   "source": [
    "# 初始化模型参数\n",
    "\n",
    "和之前线性回归的例子一样，这里的每个样本都将用固定长度的向量表示。 原始数据集中的每个样本都是28*28的图像。 本节将展平每个图像，把它们看作长度为784的向量。在softmax回归中，我们的输出与类别一样多。 因为我们的数据集有10个类别，所以网络输出维度为10。 因此，权重将构成一个的矩阵， 偏置将构成一个的行向量。 与线性回归一样，我们将使用正态分布初始化我们的权重W，偏置初始化为0。"
   ]
  },
  {
   "cell_type": "code",
   "execution_count": 2,
   "metadata": {},
   "outputs": [],
   "source": [
    "num_inputs = 784\n",
    "num_outputs = 10\n",
    "\n",
    "W = torch.normal(0, 0.01, size=(num_inputs, num_outputs), requires_grad=True)\n",
    "b = torch.zeros(num_outputs, requires_grad=True)"
   ]
  },
  {
   "cell_type": "code",
   "execution_count": 4,
   "metadata": {},
   "outputs": [
    {
     "data": {
      "text/plain": [
       "(tensor([[5, 7, 9]]),\n",
       " tensor([[ 6],\n",
       "         [15]]))"
      ]
     },
     "execution_count": 4,
     "metadata": {},
     "output_type": "execute_result"
    }
   ],
   "source": [
    "X = torch.tensor([[1, 2, 3], [4, 5, 6]])\n",
    "\n",
    "X.sum(0, keepdim=True), X.sum(1, keepdim=True)"
   ]
  },
  {
   "cell_type": "code",
   "execution_count": 5,
   "metadata": {},
   "outputs": [],
   "source": [
    "def softmax(X):\n",
    "    X_exp = torch.exp(X)\n",
    "    partition = X_exp.sum(1, keepdim=True)\n",
    "    return X_exp / partition # 应用广播机制"
   ]
  },
  {
   "cell_type": "code",
   "execution_count": 9,
   "metadata": {},
   "outputs": [
    {
     "data": {
      "text/plain": [
       "(tensor([[ 54.5981,  54.5981],\n",
       "         [403.4288, 403.4288]]),\n",
       " tensor([[109.1963],\n",
       "         [806.8576]]),\n",
       " tensor([[0.5000, 0.5000],\n",
       "         [0.5000, 0.5000]]))"
      ]
     },
     "execution_count": 9,
     "metadata": {},
     "output_type": "execute_result"
    }
   ],
   "source": [
    "\"\"\"广播机制案例演示\"\"\"\n",
    "a = torch.tensor([[4, 4], [6, 6]])\n",
    "\n",
    "x_exp = torch.exp(a)\n",
    "pa = x_exp.sum(1, keepdim=True)\n",
    "\n",
    "x_exp, pa, x_exp / pa"
   ]
  },
  {
   "cell_type": "markdown",
   "metadata": {},
   "source": [
    "这个案例中的pa在被除以x_exp时，pa的维度为(2,1)，x_exp的维度为(2,2)，由于pa的维度为(2,1)，所以pa被广播为(2,2)，然后进行除法运算。\n",
    "pa会复制一列，使得pa的维度和x_exp的维度一致，然后进行除法运算。"
   ]
  },
  {
   "cell_type": "code",
   "execution_count": null,
   "metadata": {},
   "outputs": [],
   "source": [
    "\"\"\"定义模型\"\"\"\n",
    "def net(X):\n",
    "    return softmax(torch.matmul(X.reshape((-1, W.shape[0])), W) + b)"
   ]
  },
  {
   "cell_type": "code",
   "execution_count": 10,
   "metadata": {},
   "outputs": [
    {
     "data": {
      "text/plain": [
       "tensor([0.1000, 0.5000])"
      ]
     },
     "execution_count": 10,
     "metadata": {},
     "output_type": "execute_result"
    }
   ],
   "source": [
    "y = torch.tensor([0, 2])\n",
    "y_hat = torch.tensor([[0.1, 0.3, 0.6], [0.3, 0.2, 0.5]])\n",
    "y_hat[[0, 1], y]"
   ]
  },
  {
   "cell_type": "markdown",
   "metadata": {},
   "source": [
    "在 PyTorch 中，y_hat 是一个二维张量（tensor），其形状为 (2, 3)，即有 2 行 3 列。y 是一个一维张量，包含两个元素 [0, 2]。\n",
    "\n",
    "当你执行 y_hat[[0, 1], y] 这个操作时，你正在使用高级索引（fancy indexing）来选择 y_hat 张量中的特定元素。\n",
    "\n",
    "这里的索引操作可以分解为两部分：\n",
    "\n",
    "y_hat[[0, 1]]：这部分选择了 y_hat 的第 0 行和第 1 行，结果是一个形状为 (2, 3) 的张量。\n",
    "\n",
    "y：这个一维张量包含了两个索引，分别是 0 和 2。\n",
    "\n",
    "将这两部分结合起来，y_hat[[0, 1], y] 会从 y_hat 的第 0 行和第 1 行中，根据 y 中的索引选择元素。具体来说：\n",
    "\n",
    "从第 0 行中选择索引为 0 的元素，即 y_hat[0, 0]。\n",
    "从第 1 行中选择索引为 2 的元素，即 y_hat[1, 2]。\n",
    "因此，执行 y_hat[[0, 1], y] 后，你将得到一个包含这两个元素的新张量。在这个例子中，y_hat[[0, 1], y] 的结果将是 [0.1, 0.5]。这是因为：\n",
    "\n",
    "y_hat[0, 0] 是 0.1。\n",
    "y_hat[1, 2] 是 0.5。\n",
    "这个操作在机器学习中常用于从预测张量中提取实际标签对应的预测值。"
   ]
  },
  {
   "cell_type": "code",
   "execution_count": 11,
   "metadata": {},
   "outputs": [
    {
     "data": {
      "text/plain": [
       "tensor([2.3026, 0.6931])"
      ]
     },
     "execution_count": 11,
     "metadata": {},
     "output_type": "execute_result"
    }
   ],
   "source": [
    "\"\"\"交叉熵损失函数\"\"\"\n",
    "def cross_entropy(y_hat, y):\n",
    "    return - torch.log(y_hat[range(len(y_hat)), y])\n",
    "\n",
    "cross_entropy(y_hat, y)"
   ]
  }
 ],
 "metadata": {
  "kernelspec": {
   "display_name": "jikefan",
   "language": "python",
   "name": "python3"
  },
  "language_info": {
   "codemirror_mode": {
    "name": "ipython",
    "version": 3
   },
   "file_extension": ".py",
   "mimetype": "text/x-python",
   "name": "python",
   "nbconvert_exporter": "python",
   "pygments_lexer": "ipython3",
   "version": "3.11.7"
  }
 },
 "nbformat": 4,
 "nbformat_minor": 2
}
